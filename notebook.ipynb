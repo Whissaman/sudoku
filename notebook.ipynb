{
 "cells": [
  {
   "cell_type": "code",
   "execution_count": 1,
   "metadata": {},
   "outputs": [],
   "source": [
    "import zipfile\n",
    "import random\n",
    "\n",
    "def random_puzzle(return_solution=True):\n",
    "    rand = random.randrange(0, 9_000_000)\n",
    "    with zipfile.ZipFile('archive.zip', 'r') as zip_ref:\n",
    "        with zip_ref.open('sudoku.csv') as f:\n",
    "            f.seek(16+164*rand)\n",
    "            puzzle, solution = f.readline().decode().strip().split(',')\n",
    "    if return_solution:\n",
    "        return puzzle, solution\n",
    "    return puzzle"
   ]
  },
  {
   "cell_type": "code",
   "execution_count": 4,
   "metadata": {},
   "outputs": [
    {
     "name": "stdout",
     "output_type": "stream",
     "text": [
      "031405000060029010000360570210000000980600130050014098003000000120003047000072051 731485926465729813892361574217938465984657132356214798573146289128593647649872351\n"
     ]
    }
   ],
   "source": [
    "puzzle,solution=random_puzzle()\n",
    "print(puzzle,solution)"
   ]
  },
  {
   "cell_type": "code",
   "execution_count": 3,
   "metadata": {},
   "outputs": [],
   "source": [
    "import csv\n",
    "import json\n",
    "\n",
    "# Open the CSV file\n",
    "with open('sudoku10K.csv', 'r') as csv_file:\n",
    "    # Create a CSV reader\n",
    "    csv_reader = csv.DictReader(csv_file)\n",
    "\n",
    "    # Create a list to store the JSON data\n",
    "    json_data = []\n",
    "\n",
    "    # Iterate over the CSV rows\n",
    "    for row in csv_reader:\n",
    "        # Append each row (as a dictionary) to the list\n",
    "        json_data.append(row)\n",
    "\n",
    "# Open the JSON file for writing\n",
    "with open('sudoku10K.json', 'w') as json_file:\n",
    "    # Dump the JSON data into the file\n",
    "    json.dump(json_data, json_file, indent=4)"
   ]
  }
 ],
 "metadata": {
  "kernelspec": {
   "display_name": "Python 3",
   "language": "python",
   "name": "python3"
  },
  "language_info": {
   "codemirror_mode": {
    "name": "ipython",
    "version": 3
   },
   "file_extension": ".py",
   "mimetype": "text/x-python",
   "name": "python",
   "nbconvert_exporter": "python",
   "pygments_lexer": "ipython3",
   "version": "3.12.8"
  }
 },
 "nbformat": 4,
 "nbformat_minor": 2
}
